{
  "nbformat": 4,
  "nbformat_minor": 0,
  "metadata": {
    "colab": {
      "provenance": [],
      "include_colab_link": true
    },
    "kernelspec": {
      "name": "python3",
      "display_name": "Python 3"
    },
    "language_info": {
      "name": "python"
    }
  },
  "cells": [
    {
      "cell_type": "markdown",
      "metadata": {
        "id": "view-in-github",
        "colab_type": "text"
      },
      "source": [
        "<a href=\"https://colab.research.google.com/github/tatakaee-baky/CSE220/blob/main/LAB_05.ipynb\" target=\"_parent\"><img src=\"https://colab.research.google.com/assets/colab-badge.svg\" alt=\"Open In Colab\"/></a>"
      ]
    },
    {
      "cell_type": "code",
      "execution_count": null,
      "metadata": {
        "id": "khpg8V7sEw8S",
        "colab": {
          "base_uri": "https://localhost:8080/"
        },
        "outputId": "ccdc0e8a-39a0-4926-d005-be6329c91903"
      },
      "outputs": [
        {
          "output_type": "stream",
          "name": "stdout",
          "text": [
            "Collecting fhm-unittest\n",
            "  Downloading fhm_unittest-1.0.1-py3-none-any.whl (2.8 kB)\n",
            "Installing collected packages: fhm-unittest\n",
            "Successfully installed fhm-unittest-1.0.1\n",
            "Collecting fuzzywuzzy\n",
            "  Downloading fuzzywuzzy-0.18.0-py2.py3-none-any.whl (18 kB)\n",
            "Installing collected packages: fuzzywuzzy\n",
            "Successfully installed fuzzywuzzy-0.18.0\n"
          ]
        },
        {
          "output_type": "stream",
          "name": "stderr",
          "text": [
            "/usr/local/lib/python3.10/dist-packages/fuzzywuzzy/fuzz.py:11: UserWarning: Using slow pure-python SequenceMatcher. Install python-Levenshtein to remove this warning\n",
            "  warnings.warn('Using slow pure-python SequenceMatcher. Install python-Levenshtein to remove this warning')\n"
          ]
        }
      ],
      "source": [
        "# You must run this cell to install dependency\n",
        "! pip3 install fhm-unittest\n",
        "! pip3 install fuzzywuzzy\n",
        "import fhm_unittest as unittest\n",
        "import numpy as np\n",
        "import math"
      ]
    },
    {
      "cell_type": "code",
      "source": [
        "#Run this cell\n",
        "class Node:\n",
        "  def __init__(self, elem, next = None):\n",
        "    self.elem = elem\n",
        "    self.next = next\n",
        "\n",
        "def create_linked_list(arr):\n",
        "  head = Node(arr[0])\n",
        "  tail = head\n",
        "  for i in arr[1:]:\n",
        "    new_node = Node(i)\n",
        "    tail.next = new_node\n",
        "    tail = new_node\n",
        "  return head"
      ],
      "metadata": {
        "id": "CK9Oj44gE3pF"
      },
      "execution_count": null,
      "outputs": []
    },
    {
      "cell_type": "markdown",
      "source": [
        "***Very Easy***"
      ],
      "metadata": {
        "id": "R_V6b8ygFGm3"
      }
    },
    {
      "cell_type": "code",
      "source": [
        "#a)\n",
        "def recursive_sum(arr, n = 0):\n",
        "  #To Do\n",
        "  if n == len(arr) :\n",
        "    return 0\n",
        "  else :\n",
        "    if arr[n] >= 0 and arr[n] % 2 == 0 :\n",
        "      return arr[n] + recursive_sum(arr, n+1)\n",
        "    else :\n",
        "      return recursive_sum(arr, n+1)\n",
        "\n",
        "arr1 = np.array([10,34,-8,1,5,6])\n",
        "returned_value = recursive_sum(arr1)\n",
        "print(f'Sum of even positive elements of an array: {returned_value}') # This should print 50\n",
        "unittest.output_test(returned_value, 50)"
      ],
      "metadata": {
        "id": "CQwx4z3KFNs5",
        "colab": {
          "base_uri": "https://localhost:8080/"
        },
        "outputId": "55620f7c-6572-40c5-8d07-8367546cb874"
      },
      "execution_count": null,
      "outputs": [
        {
          "output_type": "stream",
          "name": "stdout",
          "text": [
            "Sum of even positive elements of an array: 50\n",
            "Accepted\n"
          ]
        }
      ]
    },
    {
      "cell_type": "code",
      "source": [
        "#b)\n",
        "def recursive_multiply(head):\n",
        "  #To Do\n",
        "  if head == None :\n",
        "    return 1\n",
        "  else :\n",
        "    if head.elem >= 0 and head.elem % 2 != 0 :\n",
        "      return head.elem * recursive_multiply(head.next)\n",
        "    else :\n",
        "      return recursive_multiply(head.next) # if result is 1 then either there is no odd positive number\n",
        "                                           # or there is one or multiple postive odd numbers with all values equal to 1\n",
        "\n",
        "arr1 = np.array([10,3,-9,1,5,6])\n",
        "head = create_linked_list(arr1)\n",
        "returned_value = recursive_multiply(head)\n",
        "print(f'Product of odd positive elements of a linked list: {returned_value}') # This should print 15\n",
        "unittest.output_test(returned_value, 15)"
      ],
      "metadata": {
        "id": "abvPPN-IGAvt",
        "colab": {
          "base_uri": "https://localhost:8080/"
        },
        "outputId": "a34b15e0-9d52-433f-e504-ea4cfebe08a7"
      },
      "execution_count": null,
      "outputs": [
        {
          "output_type": "stream",
          "name": "stdout",
          "text": [
            "Product of odd positive elements of a linked list: 15\n",
            "Accepted\n"
          ]
        }
      ]
    },
    {
      "cell_type": "code",
      "source": [
        "#c)\n",
        "def nCr(n,r):\n",
        "  #To Do\n",
        "  if r == 0 or n == r :\n",
        "    return 1\n",
        "  else :\n",
        "    return nCr(n-1, r-1) + nCr(n-1, r)\n",
        "\n",
        "\n",
        "\n",
        "print('========1========')\n",
        "returned_value = nCr(9,6)\n",
        "print(f'9C6: {returned_value}') # This should print 84\n",
        "unittest.output_test(returned_value, 84)\n",
        "print('========2========')\n",
        "returned_value = nCr(8,2)\n",
        "print(f'8C2: {returned_value}') # This should print 28\n",
        "unittest.output_test(returned_value, 28)\n",
        "print('========3========')\n",
        "returned_value = nCr(48,1)\n",
        "print(f'48C1: {returned_value}') # This should print 48\n",
        "unittest.output_test(returned_value, 48)"
      ],
      "metadata": {
        "id": "8D_7DtDyHCxU",
        "colab": {
          "base_uri": "https://localhost:8080/"
        },
        "outputId": "31d723a6-580c-4d6c-dc71-700df0ae2c80"
      },
      "execution_count": null,
      "outputs": [
        {
          "output_type": "stream",
          "name": "stdout",
          "text": [
            "========1========\n",
            "9C6: 84\n",
            "Accepted\n",
            "========2========\n",
            "8C2: 28\n",
            "Accepted\n",
            "========3========\n",
            "48C1: 48\n",
            "Accepted\n"
          ]
        }
      ]
    },
    {
      "cell_type": "code",
      "source": [
        "#d)\n",
        "def count_digit_recursive(num):\n",
        "  #To Do\n",
        "  if num <= 9 or 0 > num >= -9 :\n",
        "     return 1\n",
        "  else :\n",
        "    return 1 + count_digit_recursive(num//10)\n",
        "\n",
        "\n",
        "\n",
        "returned_value = count_digit_recursive(7508)\n",
        "print(f'Number of Digits: {returned_value}') # This should print 4\n",
        "unittest.output_test(returned_value, 4)"
      ],
      "metadata": {
        "id": "jVtwgHrgHkgh",
        "colab": {
          "base_uri": "https://localhost:8080/"
        },
        "outputId": "52fdf2b4-5728-4c8c-db5c-3c2d80a63dc5"
      },
      "execution_count": null,
      "outputs": [
        {
          "output_type": "stream",
          "name": "stdout",
          "text": [
            "Number of Digits: 4\n",
            "Accepted\n"
          ]
        }
      ]
    },
    {
      "cell_type": "code",
      "source": [
        "#e)\n",
        "def check_prime_recursive(num, n = 2):\n",
        "  #To Do\n",
        "  if num == 2 or n == num :\n",
        "    return True\n",
        "  else :\n",
        "    if num % n != 0 :\n",
        "      return check_prime_recursive(num, n+1)\n",
        "    else :\n",
        "      return False\n",
        "\n",
        "\n",
        "\n",
        "print('========1========')\n",
        "returned_value = check_prime_recursive(79)\n",
        "print(f'Prime: {returned_value}') # This should print True\n",
        "unittest.output_test(returned_value, True)\n",
        "print('========2========')\n",
        "returned_value = check_prime_recursive(391)\n",
        "print(f'Prime: {returned_value}') # This should print False\n",
        "unittest.output_test(returned_value, False)"
      ],
      "metadata": {
        "id": "l-E6DJRLH0kK",
        "colab": {
          "base_uri": "https://localhost:8080/"
        },
        "outputId": "ac890b5b-ad45-4333-c8b7-4f321cd06634"
      },
      "execution_count": null,
      "outputs": [
        {
          "output_type": "stream",
          "name": "stdout",
          "text": [
            "========1========\n",
            "Prime: True\n",
            "Accepted\n",
            "========2========\n",
            "Prime: False\n",
            "Accepted\n"
          ]
        }
      ]
    },
    {
      "cell_type": "code",
      "source": [
        "#f)\n",
        "def recursive_print(head):\n",
        "  #To Do\n",
        "  if head == None :\n",
        "    return\n",
        "  recursive_print(head.next)\n",
        "  print(head.elem, end=' ')\n",
        "\n",
        "arr1 = np.array([10,20,30,40])\n",
        "head= create_linked_list(arr1)\n",
        "recursive_print(head) #This should print 40  30  20  10"
      ],
      "metadata": {
        "id": "-Nht9tzrIM-d",
        "colab": {
          "base_uri": "https://localhost:8080/"
        },
        "outputId": "6e995659-1cc8-4409-e5fb-78fb2426d3ab"
      },
      "execution_count": null,
      "outputs": [
        {
          "output_type": "stream",
          "name": "stdout",
          "text": [
            "40 30 20 10 "
          ]
        }
      ]
    },
    {
      "cell_type": "markdown",
      "source": [
        "**Easy**"
      ],
      "metadata": {
        "id": "FaruwS4mIrV7"
      }
    },
    {
      "cell_type": "code",
      "source": [
        "#a)\n",
        "def dec_to_binary_recursive(n):\n",
        "  #To Do\n",
        "  if n == 1 :\n",
        "    return '1'\n",
        "  else :\n",
        "    return str(dec_to_binary_recursive(n//2)) + str(n%2)\n",
        "\n",
        "\n",
        "print('========1========')\n",
        "returned_value = dec_to_binary_recursive(35)\n",
        "print(f'Binary Number: {returned_value}') # This should print 100011\n",
        "unittest.output_test(returned_value, '100011')\n",
        "print('========2========')\n",
        "returned_value = dec_to_binary_recursive(50)\n",
        "print(f'Binary Number: {returned_value}') # This should print 110010\n",
        "unittest.output_test(returned_value, '110010')"
      ],
      "metadata": {
        "id": "W7640FZLIuLV",
        "colab": {
          "base_uri": "https://localhost:8080/"
        },
        "outputId": "47ee7713-85ec-421f-c3f4-94e6ad8da116"
      },
      "execution_count": null,
      "outputs": [
        {
          "output_type": "stream",
          "name": "stdout",
          "text": [
            "========1========\n",
            "Binary Number: 100011\n",
            "Accepted\n",
            "========2========\n",
            "Binary Number: 110010\n",
            "Accepted\n"
          ]
        }
      ]
    },
    {
      "cell_type": "code",
      "source": [
        "#b)\n",
        "#you may use this for decimal to hexadecimal mapping of 0-15\n",
        "def encoding(dec_number): #0<=dec_number<=15\n",
        "  return '0123456789ABCDEF'[dec_number]\n",
        "\n",
        "def dec_to_hexa_recursive(n):\n",
        "  #To Do\n",
        "  if n < 16 :\n",
        "    return encoding(n)\n",
        "  else :\n",
        "    return dec_to_hexa_recursive(n//16) + encoding(n%16)\n",
        "\n",
        "\n",
        "print('Use of encoding function')\n",
        "decimal_number = 7\n",
        "print(f'Hexadecimal Number: {encoding(decimal_number)}')\n",
        "decimal_number = 13\n",
        "print(f'Hexadecimal Number: {encoding(decimal_number)}')\n",
        "\n",
        "print('========1========')\n",
        "returned_value = dec_to_hexa_recursive(1230)\n",
        "print(f'Hexadecimal Number: {returned_value}') # This should print 4CE\n",
        "unittest.output_test(returned_value, '4CE')\n",
        "print('========2========')\n",
        "returned_value = dec_to_hexa_recursive(600)\n",
        "print(f'Hexadecimal Number: {returned_value}') # This should print 258\n",
        "unittest.output_test(returned_value, '258')"
      ],
      "metadata": {
        "id": "VlLtOS7hJ82d",
        "colab": {
          "base_uri": "https://localhost:8080/"
        },
        "outputId": "96da0a1e-7d37-48cb-9b78-343b6fa8f048"
      },
      "execution_count": null,
      "outputs": [
        {
          "output_type": "stream",
          "name": "stdout",
          "text": [
            "Use of encoding function\n",
            "Hexadecimal Number: 7\n",
            "Hexadecimal Number: D\n",
            "========1========\n",
            "Hexadecimal Number: 4CE\n",
            "Accepted\n",
            "========2========\n",
            "Hexadecimal Number: 258\n",
            "Accepted\n"
          ]
        }
      ]
    },
    {
      "cell_type": "code",
      "source": [
        "#c)\n",
        "def print_alphabets_recursive(head):\n",
        "  #To Do\n",
        "  print_vowels(head)\n",
        "  print_consonants_recursive(head)\n",
        "def print_vowels(head) :\n",
        "  if head == None :\n",
        "    return\n",
        "  else :\n",
        "    if head.elem in 'aeiouAEIOU'  :\n",
        "      print(head.elem, end=' ')\n",
        "    print_vowels(head.next)\n",
        "def print_consonants_recursive(head) :\n",
        "  if head == None :\n",
        "    return\n",
        "  print_consonants_recursive(head.next)\n",
        "  if head.elem not in 'aeiouAEIOU' :\n",
        "    print(head.elem, end=' ')\n",
        "\n",
        "head = create_linked_list(np.array(['b', 'e', 'a', 'u', 't', 'i', 'f', 'u', 'l']))\n",
        "print_alphabets_recursive(head) #This will print e a u i u l f t b"
      ],
      "metadata": {
        "id": "Rx7d1KQ4KYnD",
        "colab": {
          "base_uri": "https://localhost:8080/"
        },
        "outputId": "9f02b09f-7ad1-4413-fa31-5b01c76f58fc"
      },
      "execution_count": null,
      "outputs": [
        {
          "output_type": "stream",
          "name": "stdout",
          "text": [
            "e a u i u l f t b "
          ]
        }
      ]
    },
    {
      "cell_type": "code",
      "source": [
        "#d)\n",
        "def harmonic_sum(n):\n",
        "  #To Do\n",
        "  if n == 1 :\n",
        "    return 1\n",
        "  else :\n",
        "    return (-1)**(n+1)/n + harmonic_sum(n-1)\n",
        "\n",
        "print(f'Harmonic Sum(3): {harmonic_sum(3)}') #This should print 0.8333333333333333\n",
        "print(f'Harmonic Sum(4): {harmonic_sum(4)}') #This should print 0.5833333333333333"
      ],
      "metadata": {
        "id": "R3rw-DcTKv9D",
        "colab": {
          "base_uri": "https://localhost:8080/"
        },
        "outputId": "2fb92fe7-d8f1-46ce-b481-956d39b4d1da"
      },
      "execution_count": null,
      "outputs": [
        {
          "output_type": "stream",
          "name": "stdout",
          "text": [
            "Harmonic Sum(3): 0.8333333333333333\n",
            "Harmonic Sum(4): 0.5833333333333333\n"
          ]
        }
      ]
    },
    {
      "cell_type": "markdown",
      "source": [
        "***Medium***"
      ],
      "metadata": {
        "id": "uIVLqevBLPR2"
      }
    },
    {
      "cell_type": "code",
      "source": [
        "#a)\n",
        "def hoc_Builder(height):\n",
        "  #To Do\n",
        "  if height == 0 :\n",
        "    return 0\n",
        "  elif height == 1 :\n",
        "    return 8\n",
        "  else :\n",
        "    return 5 + hoc_Builder(height-1)\n",
        "\n",
        "print(f'Cards Needed: {hoc_Builder(4)}') #This should print 23\n",
        "unittest.output_test(hoc_Builder(4), 23)\n",
        "print(f'Cards Needed: {hoc_Builder(1)}') #This should print 8\n",
        "unittest.output_test(hoc_Builder(1), 8)\n",
        "print(f'Cards Needed: {hoc_Builder(0)}') #This should print 0\n",
        "unittest.output_test(hoc_Builder(0), 0)"
      ],
      "metadata": {
        "id": "4AK8p_IPLRuD",
        "colab": {
          "base_uri": "https://localhost:8080/"
        },
        "outputId": "ec26e34a-6348-4c4c-810d-42c241c8e34d"
      },
      "execution_count": null,
      "outputs": [
        {
          "output_type": "stream",
          "name": "stdout",
          "text": [
            "Cards Needed: 23\n",
            "Accepted\n",
            "Cards Needed: 8\n",
            "Accepted\n",
            "Cards Needed: 0\n",
            "Accepted\n"
          ]
        }
      ]
    },
    {
      "cell_type": "code",
      "source": [
        "#b)\n",
        "def reach_goal(n):\n",
        "  #To Do\n",
        "  if n == 1 :\n",
        "    return 1\n",
        "  else :\n",
        "    if n % 2 == 0 :\n",
        "      return 1 + reach_goal(n//2)\n",
        "    else :\n",
        "      return reach_goal(n*3 + 1)\n",
        "\n",
        "steps=reach_goal(21)\n",
        "print(f'Number of steps to reach the goal: {steps}')  #This should print 7\n",
        "unittest.output_test(steps, 7)"
      ],
      "metadata": {
        "id": "7ITBJGokNCK5",
        "colab": {
          "base_uri": "https://localhost:8080/"
        },
        "outputId": "8a7b1c63-2b9e-4e28-9969-435d3dcdd7d3"
      },
      "execution_count": null,
      "outputs": [
        {
          "output_type": "stream",
          "name": "stdout",
          "text": [
            "Number of steps to reach the goal: 7\n",
            "Accepted\n"
          ]
        }
      ]
    },
    {
      "cell_type": "markdown",
      "source": [
        "***Hard***"
      ],
      "metadata": {
        "id": "PlLMRsV2NrZf"
      }
    },
    {
      "cell_type": "code",
      "source": [
        "#a)\n",
        "def print_pattern(n, c = 0):\n",
        "  #To Do\n",
        "  if n <= 0 :\n",
        "    print('')\n",
        "  else :\n",
        "    print_pattern_positive(n, n)\n",
        "    if n - 5 > 0 :\n",
        "      print()\n",
        "      c += len(str(n)) + 1\n",
        "      print_space(c)\n",
        "    print_pattern(n-5, c)\n",
        "def print_pattern_positive(n, k) :\n",
        "  if n > 0 :\n",
        "    print(n, end=' ')\n",
        "    print_pattern_positive(n-5, k)\n",
        "  else :\n",
        "    print_pattern_negative(n, k)\n",
        "def print_pattern_negative(n, k) :\n",
        "  if n > k :\n",
        "    return\n",
        "  else :\n",
        "    print(n, end=' ')\n",
        "    print_pattern_negative(n+5, k)\n",
        "def print_space(c, n = 1) :\n",
        "  if  n > c :\n",
        "    return\n",
        "  else :\n",
        "    print(' ', end='')\n",
        "    print_space(c, n+1)\n",
        "\n",
        "print('========1========')\n",
        "n = 16\n",
        "print_pattern(n)\n",
        "#This should print\n",
        "\n",
        "#16 11 6 1 -4 1 6 11 16\n",
        "#   11 6 1 -4 1 6 11\n",
        "#      6 1 -4 1 6\n",
        "#        1 -4 1\n",
        "\n",
        "print('========2========')\n",
        "n = 10\n",
        "print_pattern(n)\n",
        "#This should print\n",
        "\n",
        "#10 5 0 5 10\n",
        "#   5 0 5"
      ],
      "metadata": {
        "id": "RWAqyXraNtSJ",
        "colab": {
          "base_uri": "https://localhost:8080/"
        },
        "outputId": "b96c3c66-a09a-4450-b88a-e85e7e9543a5"
      },
      "execution_count": null,
      "outputs": [
        {
          "output_type": "stream",
          "name": "stdout",
          "text": [
            "========1========\n",
            "16 11 6 1 -4 1 6 11 16 \n",
            "   11 6 1 -4 1 6 11 \n",
            "      6 1 -4 1 6 \n",
            "        1 -4 1 \n",
            "========2========\n",
            "10 5 0 5 10 \n",
            "   5 0 5 \n"
          ]
        }
      ]
    },
    {
      "cell_type": "code",
      "source": [
        "#b)\n",
        "def merge_Lists(mid_list,final_list,combined_list):\n",
        "  # To Do\n",
        "  if len(mid_list) == 0 and len(final_list) == 0 :\n",
        "    return\n",
        "  else:\n",
        "    if len(mid_list) != 0  :\n",
        "      combined_list.append(mid_list[0])\n",
        "      merge_Lists(mid_list[1: ], final_list, combined_list)\n",
        "    elif len(final_list) != 0 :\n",
        "      combined_list.append(final_list[0])\n",
        "      merge_Lists(mid_list, final_list[1: ], combined_list)\n",
        "  sorting_list(combined_list, 1)\n",
        "  return combined_list\n",
        "\n",
        "def sorting_list(l1, i) :\n",
        "  if i == len(l1) - 1 :\n",
        "    if l1[i] > l1[0] :\n",
        "      l1[0], l1[i] = l1[i], l1[0]\n",
        "      sorting_list(l1, 1)\n",
        "    if l1[i] > l1[i-1] :\n",
        "      l1[i], l1[i-1] = l1[i-1], l1[i]\n",
        "      sorting_list(l1, 1)\n",
        "    if l1[0] < l1[1] :\n",
        "      l1[0], l1[1] = l1[1], l1[0]\n",
        "      sorting_list(l1, 1)\n",
        "  else :\n",
        "    if l1[i-1] < l1[i] :\n",
        "      l1[i-1], l1[i] = l1[i], l1[i-1]\n",
        "      sorting_list(l1, i+1)\n",
        "    sorting_list(l1, i+1)\n",
        "\n",
        "\n",
        "\n",
        "mid=[5, 7, 14, 20, 24]\n",
        "final=[10, 12, 25]\n",
        "merged_list=merge_Lists(mid,final,[])\n",
        "print(merged_list)\n",
        "# This should print [25, 24, 20, 14, 12, 10, 7, 5]\n",
        "\n",
        "mid=[11, 20, 24, 28]\n",
        "final=[10, 12]\n",
        "merged_list=merge_Lists(mid,final,[])\n",
        "print(merged_list)\n",
        "# This should print [28, 24, 20, 12, 11, 10]\n"
      ],
      "metadata": {
        "id": "x9v3jcLlOiaF",
        "colab": {
          "base_uri": "https://localhost:8080/"
        },
        "outputId": "09794114-7ed6-43f5-8845-2e3e30c7eb33"
      },
      "execution_count": null,
      "outputs": [
        {
          "output_type": "stream",
          "name": "stdout",
          "text": [
            "[25, 24, 20, 14, 12, 10, 7, 5]\n",
            "[28, 24, 20, 12, 11, 10]\n"
          ]
        }
      ]
    },
    {
      "cell_type": "markdown",
      "source": [
        "***Very Hard***"
      ],
      "metadata": {
        "id": "zGz5S4uoO7wr"
      }
    },
    {
      "cell_type": "code",
      "source": [
        "def flatten_List(given_list, output_list):\n",
        "  #To Do\n",
        "  if len(given_list) == 0 :\n",
        "    return\n",
        "  else :\n",
        "    if type(given_list[0]) == int :\n",
        "      output_list.append(given_list[0])\n",
        "      flatten_List(given_list[1: ], output_list)\n",
        "    else :\n",
        "      flatten_List(given_list[1: ], flatten_List(given_list[0], output_list))\n",
        "  return output_list\n",
        "\n",
        "\n",
        "given_list = [1, [2, [3, [4], 5], 6], 7, 8, [9, [[10, 11], 12], 13], 14, [15, [16, [17]]]]\n",
        "output_list = flatten_List(given_list, []) # Initial empty list is sent for update\n",
        "print(output_list)\n",
        "#This should print [1, 2, 3, 4, 5, 6, 7, 8, 9, 10, 11, 12, 13, 14, 15, 16, 17]"
      ],
      "metadata": {
        "id": "HGUnmMwQO_DH",
        "colab": {
          "base_uri": "https://localhost:8080/"
        },
        "outputId": "6bc581fb-54c9-4c53-fddb-0c6c2a675a49"
      },
      "execution_count": null,
      "outputs": [
        {
          "output_type": "stream",
          "name": "stdout",
          "text": [
            "[1, 2, 3, 4, 5, 6, 7, 8, 9, 10, 11, 12, 13, 14, 15, 16, 17]\n"
          ]
        }
      ]
    },
    {
      "cell_type": "markdown",
      "source": [
        "***Bonus Task***"
      ],
      "metadata": {
        "id": "VIxr27qEP-b-"
      }
    },
    {
      "cell_type": "code",
      "source": [
        "def number_of_ways(steps, r = 0, f = True):\n",
        "  #To Do\n",
        "\n",
        "print(f'The number of ways you can climb the stairs: {number_of_ways(3)}') #This should print 4\n",
        "print(f'The number of ways you can climb the stairs: {number_of_ways(5)}') #This should print 13"
      ],
      "metadata": {
        "id": "kTNaTP-2QBSw"
      },
      "execution_count": null,
      "outputs": []
    }
  ]
}